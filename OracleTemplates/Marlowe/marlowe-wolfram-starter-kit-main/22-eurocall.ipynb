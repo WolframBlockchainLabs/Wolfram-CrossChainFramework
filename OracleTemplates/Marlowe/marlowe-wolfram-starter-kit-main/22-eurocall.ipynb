{
 "cells": [
  {
   "attachments": {},
   "cell_type": "markdown",
   "id": "caa144a8-d3d7-42de-bfdd-8b27cf4c5cbe",
   "metadata": {
    "tags": [],
    "vscode": {
     "languageId": "shellscript"
    }
   },
   "source": [
    "# Wolfram European Call Option example\n",
    "\n",
    "This example demonstrates a contract utilizing Wolfram's computational intelligence as an Oracle for a European Call derivative.\n",
    "\n",
    "**1:3 linear bet on BTCADA ticker**\n",
    "\n",
    "**INTRODUCTION**\n",
    "\n",
    "Alice is betting `premium` amount (100 ada) on: price of Bitcoin to go up ABOVE `strike + premium`. She's in a long position. \n",
    "\n",
    "*How: Alice buys a Call option, Alice offers a Put to Bob*\n",
    "\n",
    "Bob is betting `margin` amount (300 ada) on: price to go down BELOW `strike + premium`. Bob is shorting. \n",
    "\n",
    "*How: Bob offers a call to Alice, Bob buys a put option (with premium = alice_margin, margin = alice_premium, strike at net profit=0)*\n",
    "\n",
    "*Note: in value trading, bets are usually 1:N where N is large, since everyone is longing - premiums get smaller.* \n",
    "\n",
    "**MECHANICS**\n",
    "\n",
    "The option’s bet is ternary (risk is “linearly amortized” between total win and total loss, See Picture 1).\n",
    "\n",
    "Parties are “splitting the pie”, in contrast to “winner takes all” agreement, as was the case in lesson 1.\n",
    "\n",
    "*Note “simple bet” from lesson 1 could be seen as a binary option (an option with infinite leverage).*\n",
    "\n",
    "Since P2P option has collar-like collateralization:\n",
    "- If Alice wins, she’s gonna net profit `min(value-premium, margin)` (capped at margin for Alice)\n",
    "- If Bob wins, he’ll net profit `min(premium-value, premium)` (capped at premium for Bob)\n",
    "\n",
    "Since the option is a right to buy an asset at strike price, the gross value (not accounting for premium’s bias) of an option is:\n",
    "\n",
    "`value = notional * (market - strike).` \n",
    "\n",
    "**EXTRA TERMS:**\n",
    "\n",
    "Tender settlement.\n",
    "\n",
    "In the money intrinsically as an option (not accounting for premium). At the money (net profit at t0 is 0), from total betting perspective (intrinsic to P2P collar). \n",
    "\n",
    "*(strike is price minus “premium divided by notional” at the purchase date, so the contract starts at the threshold between loss and profit)*\n",
    "\n",
    "European call: can only be exercised at certain date.\n",
    "\n",
    "[MARLOWE CONTRACT HERE](wolfram-eurocall.marlowe)\n",
    "\n",
    "[Marlowe Playground](https://play.marlowe.iohk.io//)\n",
    "\n",
    "![payoff curve](Collar-300x178.gif)\n",
    "\n",
    "Picture 1. 1:1 (premium = margin) P2P option's payoff curve. For Alice, loss potential is limited by premium, and profit by margin. Vice versa for Bob. [Source](https://celtinvest.com/collar/)\n",
    "\n",
    "![payoff curve investopedia](https://www.investopedia.com/thmb/xe5dQgDtqWX-PQragOrM4jE0BGg=/750x0/filters:no_upscale():max_bytes(150000):strip_icc():format(webp)/10OptionsStrategiesToKnow-05-00a2698cbc5c449eb0f11b4f67167eca.png) \n",
    "\n",
    "Picture 2. Protective Collar Picture from [investopedia](https://www.investopedia.com/articles/active-trading/011515/how-protective-collar-works.asp) by Julie Bang \n",
    "\n",
    "*Note: The slope of the “put strike -> call strike” line corresponds to leverage*\n",
    "\n",
    "————————————————————————————————————————————————————————————\n",
    "\n",
    "Quantitative notes:\n",
    "- From “value at risk” perspective, `premium` could be seen as Alice’s collateral while `margin` is Bob’s collateral\n",
    "- Swapping `market` and `strike` in the `value` formula would convert \"Call\" into a “Put” option\n",
    "- Additionally swapping `margin`s and `premium`s would allow create a “perfect hedge“ pair of call and put option\n",
    "- Due to tender settlement, `notional` only represents leverage, not the actual asset\n",
    "- If `notional` = 1 BTC, then deal is non-leveraged (1X). This would be equivalent to spot trading, but with protected portfolio and lower collateral (the whole notional would become collateral then).\n",
    "- Tender settlement allows speculating parties to avoid collateralization of `notional` amount of BTC and `notional * strike` amount of ADA. Physical settlement would not require Oracle, since parties would just swap (optionally) their collaterals (ADA for BTC).\n",
    "- Literal covered calls are impossible and unnecessary in P2P trading since such call's payoff curve goes to minus infinity. Accounting for stock/asset ownership, the effective payoff curve of a covered call is equivalent to payoff curve of collar, collar is already protected. If party happens to own stock/asset already, you can always sell notional amount of it and buy a collar instead of covered call (can even do it atomically) - such collar would have same total payoff curve as covered call. In the contract above such atomicity (if really required) could be modeled by adding a 'BTC/ADA swap' (possibly with a third-party). \n",
    "\n",
    "Technical notes\n",
    "- `Choice` \"dummy\" enforces minimum exercise time (a hack for Marlowe), in reality its address should be derived from randomly generated public (not private!) key (or be anything cryptographically irreversable instead of random, like 101010)\n",
    "- maximum exercise time is encoded in WOLF_BTCADA `Choice`'s timeout\n",
    "\n",
    "Test cases (for Marlowe Playground):\n",
    "\n",
    "```\n",
    "Terms: Notional = 1, strike = 1000, premium = 100, margin = 300\n",
    "\n",
    "observed price        -> Alice payout       , Bob payout \n",
    "————————————————————————————————————————————————————————————\n",
    "1100                  ->  100               , 300\n",
    "100000                ->  400               , 0\n",
    "0                     ->  0                 , 400\n",
    "1110                  ->  110               , 290\n",
    "1090                  ->  90                , 310\n",
    "\n",
    "\n",
    "\n",
    "Terms: Notional = 2 (2X leverage), strike = 1000, premium = 100, margin = 300\n",
    "\n",
    "observed price        -> Alice payout, Bob payout \n",
    "————————————————————————————————————————————————————————————\n",
    "1100                  ->  100                , 300\n",
    "100000                ->  400                , 0\n",
    "0                     ->  0                  , 400\n",
    "1110                  ->  120                , 280\n",
    "1090                  ->  80                 , 320\n",
    "```\n",
    "Homework: Finish the notebook below"
   ]
  },
  {
   "attachments": {},
   "cell_type": "markdown",
   "id": "b94d119b-6a78-4972-83be-bede23021187",
   "metadata": {},
   "source": [
    "## Preliminaries\n",
    "\n",
    "See [Lesson 0. Preliminaries](00-preliminaries.md) for information on setting up one's environment for using this tutorial.\n",
    "\n",
    "The lesson assumes that the following environment variables have been set.\n",
    "- `CARDANO_NODE_SOCKET_PATH`: location of Cardano node's socket.\n",
    "- `CARDANO_TESTNET_MAGIC`: testnet magic number.\n",
    "\n",
    "It also assumes that the Lender and Borrower parties have addresses, signing keys, and funds.\n",
    "- Lender\n",
    "    - [keys/alice.address](keys/alice.address): Cardano address for Alice\n",
    "    - [keys/alice.skey](keys/alice.skey): location of signing key file for Alice\n",
    "- Borrower\n",
    "    - [keys/bob.address](keys/borrower.address): Cardano address for Bob\n",
    "    - [keys/bob.skey](keys/borrower.skey): location of signing key file for Bob"
   ]
  },
  {
   "cell_type": "markdown",
   "id": "9fb26443-798a-4865-bd8e-21bbeee6522a",
   "metadata": {
    "tags": []
   },
   "source": [
    "### Access to Cardano node and Marlowe Runtime\n",
    "\n",
    "If we're using [demeter.run](https://demeter.run/)'s Cardano Marlowe Runtime extension, then we already have access to Cardano Node and Marlowe Runtime. The followind commands will set the required environment variables to use a local docker deployment on the default ports. It will also set some supplementary environment variables."
   ]
  },
  {
   "cell_type": "code",
   "execution_count": 3,
   "id": "cd27279f-12aa-4d66-92a7-5eb1224b1d90",
   "metadata": {
    "tags": [],
    "vscode": {
     "languageId": "shellscript"
    }
   },
   "outputs": [
    {
     "name": "stdout",
     "output_type": "stream",
     "text": [
      "CARDANO_NODE_SOCKET_PATH = /ipc/node.socket\n",
      "CARDANO_TESTNET_MAGIC = 2\n",
      "ALICE_ADDR = addr_test1vrc79wasc0na5zglchugujuevu9ra9ehfjxwl4x9stgm9uc9dpguq\n",
      "BOB_ADDR = addr_test1vrudhk63pclytll6vdt6hrda75al5a2jhtlkuqn0mh89ngsr929vf\n"
     ]
    }
   ],
   "source": [
    "if [[ -z \"$CARDANO_NODE_SOCKET_PATH\" ]]\n",
    "then\n",
    "\n",
    "  # Only required for `marlowe-cli` and `cardano-cli`.\n",
    "  export CARDANO_NODE_SOCKET_PATH=\"$(docker volume inspect marlowe-starter-kit_shared | jq -r '.[0].Mountpoint')/node.socket\"\n",
    "  export CARDANO_TESTNET_MAGIC=2 # Note that preprod=1 and preview=2. Do not set this variable if using mainnet.\n",
    "\n",
    "fi\n",
    "\n",
    "# FIXME: This should have been inherited from the parent environment.\n",
    "if [[ -z \"$CARDANO_NODE_SOCKET_PATH\" ]]\n",
    "then\n",
    "  export CARDANO_NODE_SOCKET_PATH=/ipc/node.socket\n",
    "fi\n",
    "\n",
    "# FIXME: This should have been set in the parent environment.\n",
    "if [[ -z \"$CARDANO_TESTNET_MAGIC\" ]]\n",
    "then\n",
    "  export CARDANO_TESTNET_MAGIC=$CARDANO_NODE_MAGIC\n",
    "fi\n",
    "\n",
    "case \"$CARDANO_TESTNET_MAGIC\" in\n",
    "  1)\n",
    "    export \"EXPLORER_URL=https://preprod.cardanoscan.io\"\n",
    "    ;;\n",
    "  2)\n",
    "    export \"EXPLORER_URL=https://preview.cardanoscan.io\"\n",
    "    ;;\n",
    "  *)\n",
    "    # Use `mainnet` as the default.\n",
    "    export \"EXPLORER_URL=https://cardanoscan.io\"\n",
    "    ;;\n",
    "esac\n",
    "\n",
    "echo \"CARDANO_NODE_SOCKET_PATH = $CARDANO_NODE_SOCKET_PATH\"\n",
    "echo \"CARDANO_TESTNET_MAGIC = $CARDANO_TESTNET_MAGIC\"\n",
    "\n",
    "SECOND=1000 # 1 second = 1000 milliseconds\n",
    "MINUTE=$((60 * SECOND)) # 1 minute = 60 seconds\n",
    "HOUR=$((60 * MINUTE)) # 1 hour = 60 minutes\n",
    "ADA=1000000\n",
    "\n",
    "ALICE_SKEY=keys/alice.skey\n",
    "ALICE_ADDR=$(cat keys/alice.address)\n",
    "echo \"ALICE_ADDR = $ALICE_ADDR\"\n",
    "\n",
    "BOB_SKEY=keys/bob.skey\n",
    "BOB_ADDR=$(cat keys/bob.address)\n",
    "echo \"BOB_ADDR = $BOB_ADDR\""
   ]
  },
  {
   "attachments": {},
   "cell_type": "markdown",
   "id": "cb70130b",
   "metadata": {},
   "source": [
    "# Update contract deposit deadline, exercise and expiration dates\n"
   ]
  },
  {
   "cell_type": "code",
   "execution_count": 5,
   "id": "69475a94",
   "metadata": {
    "vscode": {
     "languageId": "shellscript"
    }
   },
   "outputs": [
    {
     "name": "stdout",
     "output_type": "stream",
     "text": [
      "NOW = 1687380031000 POSIX milliseconds = Wed Jun 21 08:40:31 PM UTC 2023\n",
      "s/1000000000000001/1687380631000/g ||| s/1000000000000002/1687380631001/g ||| s/1000000100000001/1687381231000/g ||| s/1000000100000002/1687441231000/g\n",
      "DEPOSIT DEADLINE = 1687380031000 POSIX milliseconds = Wed Jun 21 08:50:31 PM UTC 2023\n",
      "EXERCISE DATE = 1687381231000 POSIX milliseconds = Wed Jun 21 09:00:31 PM UTC 2023\n",
      "EXPIRATION DATE = 1687441231000 POSIX milliseconds = Thu Jun 22 01:40:31 PM UTC 2023\n"
     ]
    }
   ],
   "source": [
    "SECOND=1000 # 1 second = 1000 milliseconds\n",
    "MINUTE=$((60 * SECOND)) # 1 minute = 60 seconds\n",
    "HOUR=$((60 * MINUTE)) # 1 hour = 60 minutes\n",
    "NOW=\"$((`date -u +%s` * SECOND))\"\n",
    "echo NOW = \"$NOW\" POSIX milliseconds = \"`date -d @$((NOW / SECOND))`\"\n",
    "ADA=1000000\n",
    "\n",
    "DEPOSIT_PERIOD=$((10 * MINUTE)) # Deposit within 10 minutes\n",
    "PERIOD_TO_EXERCISE=$((10 * MINUTE)) # Oracle can only report price 15 minutes after now\n",
    "PERIOD_TO_REPORT_OBSERVATION=$((1000 * MINUTE)) # Contract will expire in 30 minutes\n",
    "\n",
    "TIME1=$((NOW + DEPOSIT_PERIOD))\n",
    "TIME2=$((NOW + DEPOSIT_PERIOD + 1))\n",
    "TIME11=$((NOW + DEPOSIT_PERIOD + PERIOD_TO_EXERCISE))\n",
    "TIME12=$((NOW + DEPOSIT_PERIOD + PERIOD_TO_EXERCISE + PERIOD_TO_REPORT_OBSERVATION))\n",
    "\n",
    "REPLACE1='s/1000000000000001/'$TIME1'/g'\n",
    "REPLACE2='s/1000000000000002/'$TIME2'/g'\n",
    "REPLACE11='s/1000000100000001/'$TIME11'/g'\n",
    "REPLACE12='s/1000000100000002/'$TIME12'/g'\n",
    "\n",
    "echo $REPLACE1 \"|||\" $REPLACE2 \"|||\" $REPLACE11 \"|||\" $REPLACE12\n",
    "\n",
    "cat 'wolfram-eurocall-template.json' | sed $REPLACE1 | sed $REPLACE2 | sed $REPLACE11 | sed $REPLACE12 > wolfram-eurocall.json \n",
    "\n",
    "echo DEPOSIT DEADLINE = \"$NOW\" POSIX milliseconds = \"`date -d @$((TIME1 / SECOND))`\"\n",
    "echo EXERCISE DATE = \"$TIME11\" POSIX milliseconds = \"`date -d @$((TIME11 / SECOND))`\"\n",
    "echo EXPIRATION DATE = \"$TIME12\" POSIX milliseconds = \"`date -d @$((TIME12 / SECOND))`\"\n"
   ]
  },
  {
   "cell_type": "markdown",
   "id": "ef8349f1-d164-4434-8c29-f19fd86201bc",
   "metadata": {
    "tags": []
   },
   "source": [
    "Note the test network magic number:\n",
    "- `preprod` = 1\n",
    "- `preview` = 2"
   ]
  },
  {
   "attachments": {},
   "cell_type": "markdown",
   "id": "aec94a01",
   "metadata": {},
   "source": [
    "# Examine accounts\n",
    "See [Lesson 0. Preliminaries](00-preliminaries.md) to request test ADA"
   ]
  },
  {
   "attachments": {},
   "cell_type": "markdown",
   "id": "edd8bd88",
   "metadata": {},
   "source": [
    "# Execute transactions\n",
    "\n",
    "Check that an address and key has been created. If not, see \"Creating Addresses and Signing Keys\" in [Lesson 0. Preliminaries](00-preliminaries.md)."
   ]
  },
  {
   "cell_type": "markdown",
   "id": "fcbdcc02-7ffe-46a4-8732-10a3e7b93865",
   "metadata": {},
   "source": [
    "## Transaction 1. Create the Contract"
   ]
  },
  {
   "cell_type": "markdown",
   "id": "6fad0f1b-a918-4c56-867e-29600be217f4",
   "metadata": {},
   "source": [
    "Marlowe CLI\\'s command `marlowe-cli run initialize` will build the creation information for a Marlowe contract. We provide it the JSON files containing the contract and initial state. Anyone could create the contract, but in this example the lender will be doing so, so we provide their address to fund the transaction and to receive the change from it."
   ]
  },
  {
   "cell_type": "code",
   "execution_count": 6,
   "id": "2053db7a-3244-4d30-a9e9-f5f1eb28ab45",
   "metadata": {
    "tags": [],
    "vscode": {
     "languageId": "shellscript"
    }
   },
   "outputs": [],
   "source": [
    "marlowe-cli run initialize \\\n",
    "  --permanently-without-staking \\\n",
    "  --contract-file wolfram-eurocall.json \\\n",
    "  --state-file wolfram-state.json \\\n",
    "  --out-file eurocall-1.json"
   ]
  },
  {
   "cell_type": "markdown",
   "id": "e8388b9b-b207-4925-9b98-f0803d84f882",
   "metadata": {},
   "source": [
    "We now use Marlowe CLI\\'s `marlowe-cli run auto-execute` command to construct and submit the creation transaction."
   ]
  },
  {
   "cell_type": "code",
   "execution_count": 7,
   "id": "c856072c-e31a-4363-8291-ef96292caedc",
   "metadata": {
    "tags": [],
    "vscode": {
     "languageId": "shellscript"
    }
   },
   "outputs": [
    {
     "name": "stdout",
     "output_type": "stream",
     "text": [
      "\n",
      "Fee: Lovelace 242633\n",
      "Size: 1587 / 16384 = 9%\n",
      "Execution units:\n",
      "  Memory: 0 / 14000000 = 0%\n",
      "  Steps: 0 / 10000000000 = 0%\n",
      "TX_1 = 0a66b44816edbf0d1248c7f09e528ed7e94c91e138b1c6d2ea2011cd0f0cd4a9\n"
     ]
    }
   ],
   "source": [
    "TX_1=$(\n",
    "marlowe-cli run auto-execute \\\n",
    "  --marlowe-out-file eurocall-1.json \\\n",
    "  --change-address \"$ALICE_ADDR\" \\\n",
    "  --required-signer \"$ALICE_SKEY\" \\\n",
    "  --out-file eurocall-tx-1.signed \\\n",
    "  --submit 600 \\\n",
    "  --print-stats \\\n",
    "| sed -e 's/^TxId \"\\(.*\\)\"$/\\1/' \\\n",
    ")\n",
    "echo \"TX_1 = $TX_1\""
   ]
  },
  {
   "cell_type": "markdown",
   "id": "aa349a31-4e44-42c9-8c3d-e910f195325d",
   "metadata": {},
   "source": [
    "One can view the transaction on a Cardano explorer. It sometimes takes thirty seconds or so for the transaction to be visible in an explorer."
   ]
  },
  {
   "cell_type": "code",
   "execution_count": 105,
   "id": "72115506-5bfd-480f-b3f0-47520dca84c1",
   "metadata": {
    "vscode": {
     "languageId": "shellscript"
    }
   },
   "outputs": [
    {
     "name": "stdout",
     "output_type": "stream",
     "text": [
      "https://preview.cardanoscan.io/transaction/e8efde347dfb09e159b37d37586e35ab3276f735adb03118b6631f98b8a12c22?tab=utxo\n"
     ]
    }
   ],
   "source": [
    "echo \"$EXPLORER_URL\"/transaction/\"$TX_1?tab=utxo\""
   ]
  },
  {
   "cell_type": "markdown",
   "id": "3b3dae70-a556-4621-bab9-fd92b9f165eb",
   "metadata": {},
   "source": [
    "One can also examine the contract's UTxO using `cardano-cli`."
   ]
  },
  {
   "cell_type": "code",
   "execution_count": 106,
   "id": "c4af1000-9220-4f31-92e8-ee5eb405df0b",
   "metadata": {
    "vscode": {
     "languageId": "shellscript"
    }
   },
   "outputs": [
    {
     "name": "stdout",
     "output_type": "stream",
     "text": [
      "                           TxHash                                 TxIx        Amount\n",
      "--------------------------------------------------------------------------------------\n",
      "e8efde347dfb09e159b37d37586e35ab3276f735adb03118b6631f98b8a12c22     1        600000000 lovelace + TxOutDatumHash ScriptDataInBabbageEra \"0bdc17570003b2ab0d48761a8b1bb46e0a4612e7e321087e65752005055a4a83\"\n"
     ]
    }
   ],
   "source": [
    "cardano-cli query utxo --testnet-magic \"$CARDANO_TESTNET_MAGIC\" --tx-in \"$TX_1#1\""
   ]
  },
  {
   "attachments": {},
   "cell_type": "markdown",
   "id": "cd4fa3da-0f75-4b96-a911-0ba5bea722f8",
   "metadata": {},
   "source": [
    "## Transaction 2. Skip LET definitions"
   ]
  },
  {
   "cell_type": "code",
   "execution_count": 8,
   "id": "7832e26d",
   "metadata": {
    "vscode": {
     "languageId": "shellscript"
    }
   },
   "outputs": [
    {
     "name": "stdout",
     "output_type": "stream",
     "text": [
      "Rounding  `TransactionInput` txInterval boundries to:(POSIXTime {getPOSIXTime = 1687379553000},POSIXTime {getPOSIXTime = 1687379673999})\n",
      "TransactionInput {txInterval = (POSIXTime {getPOSIXTime = 1687379553000},POSIXTime {getPOSIXTime = 1687379673999}), txInputs = []}\n"
     ]
    }
   ],
   "source": [
    "marlowe-cli run prepare \\\n",
    "  --invalid-before \"$((`date -u +%s` * SECOND - 1 * MINUTE))\" \\\n",
    "  --invalid-hereafter \"$((`date -u +%s` * SECOND + 1 * MINUTE))\" \\\n",
    "  --marlowe-file eurocall-1.json \\\n",
    "  --out-file eurocall-2.json"
   ]
  },
  {
   "cell_type": "code",
   "execution_count": 9,
   "id": "2e821767-d465-4051-96b6-f1128ec9cffc",
   "metadata": {
    "tags": [],
    "vscode": {
     "languageId": "shellscript"
    }
   },
   "outputs": [
    {
     "name": "stdout",
     "output_type": "stream",
     "text": [
      "\n",
      "Fee: Lovelace 868456\n",
      "Size: 2951 / 16384 = 18%\n",
      "Execution units:\n",
      "  Memory: 7297355 / 14000000 = 52%\n",
      "  Steps: 2034463110 / 10000000000 = 20%\n",
      "TX_2 = ef1c107f17ee3a545aa1660a50ccf44aa257774eda4347761bffff7222c3f496\n"
     ]
    }
   ],
   "source": [
    "TX_2=$(\n",
    "marlowe-cli run auto-execute \\\n",
    "  --tx-in-marlowe \"$TX_1#1\" \\\n",
    "  --marlowe-in-file eurocall-1.json \\\n",
    "  --marlowe-out-file eurocall-2.json \\\n",
    "  --change-address \"$ALICE_ADDR\" \\\n",
    "  --required-signer \"$ALICE_SKEY\" \\\n",
    "  --out-file eurocall-tx-2.signed \\\n",
    "  --submit 600 \\\n",
    "  --print-stats \\\n",
    "| sed -e 's/^TxId \"\\(.*\\)\"$/\\1/' \\\n",
    ")\n",
    "echo \"TX_2 = $TX_2\""
   ]
  },
  {
   "cell_type": "markdown",
   "id": "f2e8377b",
   "metadata": {},
   "source": [
    "## Transaction 3. Alice deposit\n",
    "\n",
    "Alice is going to bet some valuable cash she was saving for a rainy day"
   ]
  },
  {
   "cell_type": "code",
   "execution_count": 10,
   "id": "d2fac183-6fbd-4d0a-80a4-6045a20a8f2d",
   "metadata": {
    "tags": [],
    "vscode": {
     "languageId": "shellscript"
    }
   },
   "outputs": [
    {
     "name": "stdout",
     "output_type": "stream",
     "text": [
      "Rounding  `TransactionInput` txInterval boundries to:(POSIXTime {getPOSIXTime = 1687379575000},POSIXTime {getPOSIXTime = 1687379695999})\n",
      "TransactionInput {txInterval = (POSIXTime {getPOSIXTime = 1687379575000},POSIXTime {getPOSIXTime = 1687379695999}), txInputs = [NormalInput (IDeposit \"\\\"addr_test1vrudhk63pclytll6vdt6hrda75al5a2jhtlkuqn0mh89ngsr929vf\\\"\" \"\\\"addr_test1vrc79wasc0na5zglchugujuevu9ra9ehfjxwl4x9stgm9uc9dpguq\\\"\" (Token \"\" \"\") 100000000)]}\n"
     ]
    }
   ],
   "source": [
    "marlowe-cli run prepare \\\n",
    "  --deposit-account \"$BOB_ADDR\" \\\n",
    "  --deposit-party \"$ALICE_ADDR\" \\\n",
    "  --deposit-amount \"100000000\" \\\n",
    "  --invalid-before \"$((`date -u +%s` * SECOND - 1 * MINUTE))\" \\\n",
    "  --invalid-hereafter \"$((`date -u +%s` * SECOND + 1 * MINUTE))\" \\\n",
    "  --marlowe-file eurocall-2.json \\\n",
    "  --out-file eurocall-3.json"
   ]
  },
  {
   "cell_type": "code",
   "execution_count": 17,
   "id": "1421cf9a",
   "metadata": {
    "vscode": {
     "languageId": "shellscript"
    }
   },
   "outputs": [
    {
     "name": "stdout",
     "output_type": "stream",
     "text": [
      "\n",
      "Fee: Lovelace 837366\n",
      "Size: 2809 / 16384 = 17%\n",
      "Execution units:\n",
      "  Memory: 6988142 / 14000000 = 49%\n",
      "  Steps: 1937379854 / 10000000000 = 19%\n",
      "TX_3 = 9aae31fa7c1e5d2366976aa570973f3678fdf1e444d5684313ff208e102408fc\n"
     ]
    }
   ],
   "source": [
    "TX_3=$(\n",
    "marlowe-cli run auto-execute \\\n",
    "  --tx-in-marlowe \"$TX_2#1\" \\\n",
    "  --marlowe-in-file eurocall-2.json \\\n",
    "  --marlowe-out-file eurocall-3.json \\\n",
    "  --change-address \"$ALICE_ADDR\" \\\n",
    "  --required-signer \"$ALICE_SKEY\" \\\n",
    "  --out-file eurocall-tx-3.signed \\\n",
    "  --submit 600 \\\n",
    "  --print-stats \\\n",
    "| sed -e 's/^TxId \"\\(.*\\)\"$/\\1/' \\\n",
    ")\n",
    "echo \"TX_3 = $TX_3\""
   ]
  },
  {
   "cell_type": "code",
   "execution_count": 27,
   "id": "bb813544-092a-4831-bff5-5ea7ce8a9259",
   "metadata": {
    "vscode": {
     "languageId": "shellscript"
    }
   },
   "outputs": [
    {
     "name": "stdout",
     "output_type": "stream",
     "text": [
      "https://preview.cardanoscan.io/transaction/731d8ced76f3d1e97381d449b54f54418b945a3909a49b3f4fa394a0710c7755?tab=utxo\n"
     ]
    }
   ],
   "source": [
    "echo \"$EXPLORER_URL\"/transaction/\"$TX_2?tab=utxo\""
   ]
  },
  {
   "cell_type": "code",
   "execution_count": null,
   "id": "e6e4fbb4",
   "metadata": {
    "vscode": {
     "languageId": "shellscript"
    }
   },
   "outputs": [
    {
     "name": "stdout",
     "output_type": "stream",
     "text": [
      "https://preview.cardanoscan.io/transaction/731d8ced76f3d1e97381d449b54f54418b945a3909a49b3f4fa394a0710c7755?tab=utxo\n"
     ]
    }
   ],
   "source": [
    "echo \"$EXPLORER_URL\"/transaction/\"$TX_3?tab=utxo\""
   ]
  },
  {
   "cell_type": "code",
   "execution_count": 39,
   "id": "b45dc15d-f54f-49cb-a36d-0524f47fd70e",
   "metadata": {
    "vscode": {
     "languageId": "shellscript"
    }
   },
   "outputs": [
    {
     "name": "stdout",
     "output_type": "stream",
     "text": [
      "                           TxHash                                 TxIx        Amount\n",
      "--------------------------------------------------------------------------------------\n",
      "5c5328866aa0cf7af63ffbb68b5c3a99a4cf993c56d682be8b62fcf97fcc07f9     0        75683649 lovelace + TxOutDatumNone\n",
      "63b44779d26e430be7654d3cb96007e640340c1f8d8add5400486eedc82028c9     0        798544566 lovelace + TxOutDatumNone\n",
      "d6ffcd7d0dceba4236391544cd4ada8842f32878395cd088991ee2e1fe73b01c     1        1000000000 lovelace + TxOutDatumNone\n",
      "d9096dd67b85d73576a5a8a3135a08dd1be1f6e26b0cbee547327b53b530b82b     0        796848386 lovelace + TxOutDatumNone\n",
      "e941faa76c97cb1956d2e50ac4dc5408e0f92e355ba8e80d480ffa3a2859eb5e     0        816333124 lovelace + TxOutDatumNone\n"
     ]
    }
   ],
   "source": [
    "cardano-cli query utxo --testnet-magic \"$CARDANO_TESTNET_MAGIC\" --address \"$ALICE_ADDR\""
   ]
  },
  {
   "cell_type": "code",
   "execution_count": 40,
   "id": "6485d605-dec4-4bab-86f6-81bf002041ed",
   "metadata": {
    "vscode": {
     "languageId": "shellscript"
    }
   },
   "outputs": [
    {
     "name": "stdout",
     "output_type": "stream",
     "text": [
      "                           TxHash                                 TxIx        Amount\n",
      "--------------------------------------------------------------------------------------\n",
      "63b44779d26e430be7654d3cb96007e640340c1f8d8add5400486eedc82028c9     1        700000000 lovelace + TxOutDatumHash ScriptDataInBabbageEra \"072cbca1b638831001626ab64306bc09df49d7b6366614dde6a5cc6002c3346f\"\n"
     ]
    }
   ],
   "source": [
    "cardano-cli query utxo --testnet-magic \"$CARDANO_TESTNET_MAGIC\" --tx-in \"$TX_2#1\""
   ]
  },
  {
   "attachments": {},
   "cell_type": "markdown",
   "id": "e7c652f6-02da-4786-a54d-755d59e4aba9",
   "metadata": {},
   "source": [
    "## Transaction 4. Bob deposit\n",
    "\n",
    "Bob is unemployed because of his gampling problems. This bet is his only chance to find a good therapist."
   ]
  },
  {
   "cell_type": "code",
   "execution_count": 11,
   "id": "10a49a12-18b5-4240-9d95-6bad4e82375d",
   "metadata": {
    "tags": [],
    "vscode": {
     "languageId": "shellscript"
    }
   },
   "outputs": [
    {
     "name": "stdout",
     "output_type": "stream",
     "text": [
      "Rounding  `TransactionInput` txInterval boundries to:(POSIXTime {getPOSIXTime = 1687379582000},POSIXTime {getPOSIXTime = 1687379942999})\n",
      "TransactionInput {txInterval = (POSIXTime {getPOSIXTime = 1687379582000},POSIXTime {getPOSIXTime = 1687379942999}), txInputs = [NormalInput (IDeposit \"\\\"addr_test1vrudhk63pclytll6vdt6hrda75al5a2jhtlkuqn0mh89ngsr929vf\\\"\" \"\\\"addr_test1vrudhk63pclytll6vdt6hrda75al5a2jhtlkuqn0mh89ngsr929vf\\\"\" (Token \"\" \"\") 300000000)]}\n"
     ]
    }
   ],
   "source": [
    "marlowe-cli run prepare \\\n",
    "  --deposit-account \"$BOB_ADDR\" \\\n",
    "  --deposit-party \"$BOB_ADDR\" \\\n",
    "  --deposit-amount \"300000000\" \\\n",
    "  --invalid-before \"$((`date -u +%s` * SECOND - 1 * MINUTE))\" \\\n",
    "  --invalid-hereafter \"$((`date -u +%s` * SECOND + 5 * MINUTE))\" \\\n",
    "  --marlowe-file eurocall-3.json \\\n",
    "  --out-file eurocall-4.json"
   ]
  },
  {
   "cell_type": "code",
   "execution_count": 19,
   "id": "7c405029-bf87-4eac-8b9e-630f64ddd53e",
   "metadata": {
    "tags": [],
    "vscode": {
     "languageId": "shellscript"
    }
   },
   "outputs": [
    {
     "name": "stdout",
     "output_type": "stream",
     "text": [
      "\n",
      "Fee: Lovelace 851670\n",
      "Size: 2558 / 16384 = 15%\n",
      "Execution units:\n",
      "  Memory: 7220466 / 14000000 = 51%\n",
      "  Steps: 1979742567 / 10000000000 = 19%\n",
      "TX_4 = 8946ed2ac3f1d8a0815fb0faff49468a5dfe5eaaf06c8362f3edbe34bc209976\n"
     ]
    }
   ],
   "source": [
    "TX_4=$(\n",
    "marlowe-cli run auto-execute \\\n",
    "  --tx-in-marlowe \"$TX_3#1\" \\\n",
    "  --marlowe-in-file eurocall-3.json \\\n",
    "  --marlowe-out-file eurocall-4.json \\\n",
    "  --change-address \"$BOB_ADDR\" \\\n",
    "  --required-signer \"$BOB_SKEY\" \\\n",
    "  --out-file eurocall-tx-4.signed \\\n",
    "  --submit 600 \\\n",
    "  --print-stats \\\n",
    "| sed -e 's/^TxId \"\\(.*\\)\"$/\\1/' \\\n",
    ")\n",
    "echo \"TX_4 = $TX_4\""
   ]
  },
  {
   "cell_type": "code",
   "execution_count": 47,
   "id": "94e9f529-529b-4777-b829-dcab0a5fc3b8",
   "metadata": {
    "vscode": {
     "languageId": "shellscript"
    }
   },
   "outputs": [
    {
     "name": "stdout",
     "output_type": "stream",
     "text": [
      "/transaction/5954d646c4065186fa4a726c20b217bf7f7c4fdc5d83da96bc238e962a9ee97d?tab=utxo\n"
     ]
    }
   ],
   "source": [
    "echo \"$EXPLORER_URL\"/transaction/\"$TX_4?tab=utxo\""
   ]
  },
  {
   "attachments": {},
   "cell_type": "markdown",
   "id": "884182f0",
   "metadata": {},
   "source": [
    "# Progress prematurely AND FAIL"
   ]
  },
  {
   "cell_type": "code",
   "execution_count": 3,
   "id": "ca036cb4",
   "metadata": {
    "vscode": {
     "languageId": "shellscript"
    }
   },
   "outputs": [
    {
     "name": "stdout",
     "output_type": "stream",
     "text": [
      "Rounding  `TransactionInput` txInterval boundries to:(POSIXTime {getPOSIXTime = 1687379897000},POSIXTime {getPOSIXTime = 1687380257999})\n",
      "TransactionInput {txInterval = (POSIXTime {getPOSIXTime = 1687379897000},POSIXTime {getPOSIXTime = 1687380257999}), txInputs = []}\n",
      "TEUselessTransaction\n"
     ]
    },
    {
     "ename": "",
     "evalue": "1",
     "output_type": "error",
     "traceback": []
    }
   ],
   "source": [
    "marlowe-cli run prepare \\\n",
    "  --invalid-before \"$((`date -u +%s` * SECOND - 1 * MINUTE))\" \\\n",
    "  --invalid-hereafter \"$((`date -u +%s` * SECOND + 5 * MINUTE))\" \\\n",
    "  --marlowe-file eurocall-4.json \\\n",
    "  --out-file FAIL-eurocall-5.json\n"
   ]
  },
  {
   "attachments": {},
   "cell_type": "markdown",
   "id": "7c5c7ab6",
   "metadata": {},
   "source": [
    "# Run Mini-Oracle on time"
   ]
  },
  {
   "cell_type": "code",
   "execution_count": 10,
   "id": "4dbc3998",
   "metadata": {
    "vscode": {
     "languageId": "shellscript"
    }
   },
   "outputs": [
    {
     "name": "stdout",
     "output_type": "stream",
     "text": [
      "NOW = 1687381261000 POSIX milliseconds = Wed Jun 21 09:01:01 PM UTC 2023\n",
      "EXERCISE DATE = 1687381231000 POSIX milliseconds = Wed Jun 21 09:00:31 PM UTC 2023\n"
     ]
    }
   ],
   "source": [
    "# reminder\n",
    "NEWNOW=\"$((`date -u +%s` * SECOND))\"\n",
    "echo NOW = \"$NEWNOW\" POSIX milliseconds = \"`date -d @$((NEWNOW / SECOND))`\"\n",
    "echo EXERCISE DATE = \"$TIME11\" POSIX milliseconds = \"`date -d @$((TIME11 / SECOND))`\""
   ]
  },
  {
   "cell_type": "code",
   "execution_count": 33,
   "id": "bd9f4fd2",
   "metadata": {
    "vscode": {
     "languageId": "shellscript"
    }
   },
   "outputs": [
    {
     "name": "stdout",
     "output_type": "stream",
     "text": [
      "Rounding  `TransactionInput` txInterval boundries to:(POSIXTime {getPOSIXTime = 1687384675000},POSIXTime {getPOSIXTime = 1687384795999})\n",
      "TransactionInput {txInterval = (POSIXTime {getPOSIXTime = 1687384675000},POSIXTime {getPOSIXTime = 1687384795999}), txInputs = []}\n"
     ]
    }
   ],
   "source": [
    "# now this will work\n",
    "marlowe-cli run prepare \\\n",
    "  --invalid-before \"$((`date -u +%s` * SECOND - 1 * MINUTE))\" \\\n",
    "  --invalid-hereafter \"$((`date -u +%s` * SECOND + 1 * MINUTE))\" \\\n",
    "  --marlowe-file eurocall-4.json \\\n",
    "  --out-file eurocall-5.json\n"
   ]
  },
  {
   "cell_type": "code",
   "execution_count": 35,
   "id": "b141d576",
   "metadata": {
    "vscode": {
     "languageId": "shellscript"
    }
   },
   "outputs": [
    {
     "name": "stdout",
     "output_type": "stream",
     "text": [
      "  % Total    % Received % Xferd  Average Speed   Time    Time     Time  Current\n",
      "                                 Dload  Upload   Total   Spent    Left  Speed\n",
      "100    22    0    22    0     0     29      0 --:--:-- --:--:-- --:--:--    29\n",
      "TICKER = 30200\n",
      "Rounding  `TransactionInput` txInterval boundries to:(POSIXTime {getPOSIXTime = 1687384693000},POSIXTime {getPOSIXTime = 1687384813999})\n",
      "TransactionInput {txInterval = (POSIXTime {getPOSIXTime = 1687384693000},POSIXTime {getPOSIXTime = 1687384813999}), txInputs = [NormalInput (IChoice (ChoiceId \"WOLF_BTCADA\" \"\\\"addr_test1vrxx3rjangevudlrejgp9m508uc26jd02n7lmdz365n4wrca35y5j\\\"\") 30200)]}\n",
      "Payment 1\n",
      "  Acccount: \"\\\"addr_test1vrudhk63pclytll6vdt6hrda75al5a2jhtlkuqn0mh89ngsr929vf\\\"\"\n",
      "  Payee: Account \"\\\"addr_test1vrc79wasc0na5zglchugujuevu9ra9ehfjxwl4x9stgm9uc9dpguq\\\"\"\n",
      "  Ada: Lovelace {getLovelace = 700000000}\n",
      "Payment 2\n",
      "  Acccount: \"\\\"addr_test1vrc79wasc0na5zglchugujuevu9ra9ehfjxwl4x9stgm9uc9dpguq\\\"\"\n",
      "  Payee: Party \"\\\"addr_test1vrc79wasc0na5zglchugujuevu9ra9ehfjxwl4x9stgm9uc9dpguq\\\"\"\n",
      "  Ada: Lovelace {getLovelace = 1000000000}\n"
     ]
    }
   ],
   "source": [
    "TICKER=$(curl \"https://api.wolframalpha.com/v1/result?appid=6WU6JX-46EP5U9AGX&i=1%20btc%20to%20usd%20number\" | sed 's/[^0-9]//g')\n",
    "echo \"TICKER = $TICKER\"\n",
    "\n",
    "marlowe-cli run prepare \\\n",
    "  --choice-name \"WOLF_BTCADA\" \\\n",
    "  --choice-party \"addr_test1vrxx3rjangevudlrejgp9m508uc26jd02n7lmdz365n4wrca35y5j\" \\\n",
    "  --choice-number \"$TICKER\" \\\n",
    "  --invalid-before \"$((`date -u +%s` * SECOND - 1 * MINUTE))\" \\\n",
    "  --invalid-hereafter \"$((`date -u +%s` * SECOND + 1 * MINUTE))\" \\\n",
    "  --marlowe-file eurocall-5.json \\\n",
    "  --out-file eurocall-6.json\n"
   ]
  },
  {
   "attachments": {},
   "cell_type": "markdown",
   "id": "1ea1da65",
   "metadata": {},
   "source": [
    "### **Unfortunatelly, Marlowe (or a TestNet issue) breaks its own semantics on-chain, when it comes to timeouts**\n",
    "Note: It could be due Cardano testnet's blockchain consistency issues at the time of writing - my local copy of a ledger (cardano node) did not see previous 'cleared' (commited) transactions it submitted \n",
    "What message means is that: The contract moved in one state in marlowe-prepare, but ended in another on-chain (likely it did not find previous transactions)"
   ]
  },
  {
   "cell_type": "code",
   "execution_count": 36,
   "id": "0f666f2a",
   "metadata": {
    "vscode": {
     "languageId": "shellscript"
    }
   },
   "outputs": [
    {
     "name": "stdout",
     "output_type": "stream",
     "text": [
      "TxBodyScriptExecutionError [(ScriptWitnessIndexTxIn 0,ScriptErrorWrongDatum \"b696981d1615ce7278b5203ec99125fd464d36525303a44f4488aed0f324dd6e\")]\n",
      "TX_5 = \n"
     ]
    }
   ],
   "source": [
    "TX_5=$(\n",
    "marlowe-cli run auto-execute \\\n",
    "  --tx-in-marlowe \"$TX_4#1\" \\\n",
    "  --marlowe-in-file eurocall-4.json \\\n",
    "  --marlowe-out-file eurocall-5.json \\\n",
    "  --change-address \"addr_test1vrxx3rjangevudlrejgp9m508uc26jd02n7lmdz365n4wrca35y5j\" \\\n",
    "  --required-signer \"keys/bob.skey\" \\\n",
    "  --out-file tx-5.signed \\\n",
    "  --submit 600 \\\n",
    "  --print-stats \\\n",
    "| sed -e 's/^TxId \"\\(.*\\)\"$/\\1/' \\\n",
    ")\n",
    "echo \"TX_5 = $TX_5\""
   ]
  },
  {
   "attachments": {},
   "cell_type": "markdown",
   "id": "59314e14",
   "metadata": {},
   "source": [
    "---------------------------------------------\n",
    "---------------------------------------------\n",
    "---------------------------------------------\n",
    "Just to get some satisfaction. [Here's](wolfram-eurocall-simple.json) simplified version of Eurocall, that should work. \n",
    "It doesn't have any native Exercise Date limitations, so responsibility goes to the Oracle. Edit: Mick Jagger would be proud, Cardano node doesn't see commited transactions anymore (even originated from itself) - Charles only got one letter out of three right: 'P', Partitioning. \n",
    "*tech note: 'Some inputs are missing from the chain (possibly reference inputs): TxIn 'f986c0013997f86b967c84e7290acf915b2655679534c158c3149e5542e04a78' (TxIx 1)' looks like possible minor implementation-level (not protocol) eclipse-attack volnurability to me (cardano-node likely physically has the transaction). ALL PoSes (all, including Cardano Ouroboros) already have generic eclipse-attack volnurabilities on protocol-level anyways, so extra minor implementation bug is 'no big deal', PoS sucks :).* \n",
    "\n",
    "\n"
   ]
  },
  {
   "cell_type": "code",
   "execution_count": 4,
   "id": "58ac8523",
   "metadata": {
    "vscode": {
     "languageId": "shellscript"
    }
   },
   "outputs": [
    {
     "name": "stdout",
     "output_type": "stream",
     "text": [
      "mkdir: cannot create directory ‘chain’: File exists\n",
      "mkdir: cannot create directory ‘chain/simple’: File exists\n",
      "\n",
      "Fee: Lovelace 179889\n",
      "Size: 209 / 16384 = 1%\n",
      "Execution units:\n",
      "  Memory: 0 / 14000000 = 0%\n",
      "  Steps: 0 / 10000000000 = 0%\n",
      "TXX_1 = f986c0013997f86b967c84e7290acf915b2655679534c158c3149e5542e04a78\n"
     ]
    }
   ],
   "source": [
    "marlowe-cli run initialize \\\n",
    "  --permanently-without-staking \\\n",
    "  --contract-file wolfram-eurocall-simple.json \\\n",
    "  --state-file wolfram-state.json \\\n",
    "  --out-file ./chain/simple/eurocall-1.json\n",
    "\n",
    "TXX_1=$(\n",
    "marlowe-cli run auto-execute \\\n",
    "  --marlowe-out-file ./chain/simple/eurocall-1.json \\\n",
    "  --change-address \"$BOB_ADDR\" \\\n",
    "  --required-signer \"$BOB_SKEY\" \\\n",
    "  --out-file ./chain/simple/eurocall-tx-1.signed \\\n",
    "  --submit 600 \\\n",
    "  --print-stats \\\n",
    "| sed -e 's/^TxId \"\\(.*\\)\"$/\\1/' \\\n",
    ")\n",
    "echo \"TXX_1 = $TXX_1\""
   ]
  },
  {
   "cell_type": "code",
   "execution_count": 5,
   "id": "b07ac2a0",
   "metadata": {
    "vscode": {
     "languageId": "shellscript"
    }
   },
   "outputs": [
    {
     "name": "stdout",
     "output_type": "stream",
     "text": [
      "Rounding  `TransactionInput` txInterval boundries to:(POSIXTime {getPOSIXTime = 1687392869000},POSIXTime {getPOSIXTime = 1687393229999})\n",
      "TransactionInput {txInterval = (POSIXTime {getPOSIXTime = 1687392869000},POSIXTime {getPOSIXTime = 1687393229999}), txInputs = [NormalInput (IDeposit \"\\\"addr_test1vrc79wasc0na5zglchugujuevu9ra9ehfjxwl4x9stgm9uc9dpguq\\\"\" \"\\\"addr_test1vrc79wasc0na5zglchugujuevu9ra9ehfjxwl4x9stgm9uc9dpguq\\\"\" (Token \"\" \"\") 100000000)]}\n",
      "addr_test1vrc79wasc0na5zglchugujuevu9ra9ehfjxwl4x9stgm9uc9dpguq\n",
      "Some inputs are missing from the chain (possibly reference inputs): [TxIn \"f986c0013997f86b967c84e7290acf915b2655679534c158c3149e5542e04a78\" (TxIx 1)]\n",
      "TXX_2 = \n"
     ]
    }
   ],
   "source": [
    "\n",
    "marlowe-cli run prepare \\\n",
    "  --deposit-account \"$ALICE_ADDR\" \\\n",
    "  --deposit-party \"$ALICE_ADDR\" \\\n",
    "  --deposit-amount \"100000000\" \\\n",
    "  --invalid-before \"$((`date -u +%s` * SECOND - 1 * MINUTE))\" \\\n",
    "  --invalid-hereafter \"$((`date -u +%s` * SECOND + 5 * MINUTE))\" \\\n",
    "  --marlowe-file ./chain/simple/eurocall-1.json \\\n",
    "  --out-file ./chain/simple/eurocall-2.json\n",
    "\n",
    "echo $ALICE_ADDR\n",
    "TXX_2=$(\n",
    "marlowe-cli run auto-execute \\\n",
    "  --tx-in-marlowe \"$TXX_1#1\" \\\n",
    "  --marlowe-in-file ./chain/simple/eurocall-1.json \\\n",
    "  --marlowe-out-file ./chain/simple/eurocall-2.json \\\n",
    "  --change-address \"$ALICE_ADDR\" \\\n",
    "  --required-signer \"$ALICE_SKEY\" \\\n",
    "  --out-file ./chain/simple/eurocall-tx-2.signed \\\n",
    "  --submit 600 \\\n",
    "  --print-stats \\\n",
    "| sed -e 's/^TxId \"\\(.*\\)\"$/\\1/' \\\n",
    ")\n",
    "echo \"TXX_2 = $TXX_2\"\n"
   ]
  },
  {
   "cell_type": "code",
   "execution_count": null,
   "id": "35a5e68e",
   "metadata": {
    "vscode": {
     "languageId": "shellscript"
    }
   },
   "outputs": [],
   "source": [
    "\n",
    "marlowe-cli run prepare \\\n",
    "  --deposit-account \"$BOB_ADDR\" \\\n",
    "  --deposit-party \"$BOB_ADDR\" \\\n",
    "  --deposit-amount \"300000000\" \\\n",
    "  --invalid-before \"$((`date -u +%s` * SECOND - 1 * MINUTE))\" \\\n",
    "  --invalid-hereafter \"$((`date -u +%s` * SECOND + 5 * MINUTE))\" \\\n",
    "  --marlowe-file ./chain/simple/eurocall-2.json \\\n",
    "  --out-file ./chain/simple/eurocall-3.json\n",
    "\n",
    "TICKER=$(curl \"https://api.wolframalpha.com/v1/result?appid=6WU6JX-46EP5U9AGX&i=1%20btc%20to%20usd%20number\" | sed 's/[^0-9]//g')\n",
    "echo \"TICKER = $TICKER\"\n",
    "\n",
    "marlowe-cli run prepare \\\n",
    "  --choice-name \"WOLF_BTCADA\" \\\n",
    "  --choice-party \"addr_test1vrxx3rjangevudlrejgp9m508uc26jd02n7lmdz365n4wrca35y5j\" \\\n",
    "  --choice-number \"$TICKER\" \\\n",
    "  --invalid-before \"$((`date -u +%s` * SECOND - 1 * MINUTE))\" \\\n",
    "  --invalid-hereafter \"$((`date -u +%s` * SECOND + 5 * MINUTE))\" \\\n",
    "  --marlowe-file ./chain/simple/eurocall-3.json \\\n",
    "  --out-file ./chain/simple/eurocall-4.json\n",
    "\n",
    "\n",
    "\n",
    "\n"
   ]
  },
  {
   "cell_type": "code",
   "execution_count": 4,
   "id": "3d982798",
   "metadata": {
    "vscode": {
     "languageId": "shellscript"
    }
   },
   "outputs": [
    {
     "name": "stdout",
     "output_type": "stream",
     "text": [
      "addr_test1vrc79wasc0na5zglchugujuevu9ra9ehfjxwl4x9stgm9uc9dpguq\n",
      "Some inputs are missing from the chain (possibly reference inputs): [TxIn \"7fccf8d353da5c1af872b9f4fd377b307d0d38326dc8e4c3244d523f7f803ba6\" (TxIx 1)]\n",
      "TXX_2 = \n"
     ]
    }
   ],
   "source": [
    "\n"
   ]
  },
  {
   "cell_type": "code",
   "execution_count": 77,
   "id": "dd237071",
   "metadata": {
    "vscode": {
     "languageId": "shellscript"
    }
   },
   "outputs": [
    {
     "name": "stdout",
     "output_type": "stream",
     "text": [
      "option --tx-in-marlowe: Invalid transaction input.\n",
      "\n",
      "Usage: marlowe-cli run auto-execute \n",
      "         [--mainnet | --testnet-magic INTEGER] [--socket-path SOCKET_FILE] \n",
      "         [--marlowe-in-file MARLOWE_FILE --tx-in-marlowe TXID#TXIX]\n",
      "         --marlowe-out-file MARLOWE_FILE --change-address ADDRESS\n",
      "         (--required-signer SIGNING_FILE) [--metadata-file METADATA_FILE]\n",
      "         --out-file FILE [--submit SECONDS] [--print-stats] [--script-invalid]\n",
      "\n",
      "  [EXPERIMENTAL] Run a Marlowe transaction, selecting transaction inputs and\n",
      "  outputs automatically.\n",
      "TXX_3 = \n"
     ]
    }
   ],
   "source": [
    "TXX_3=$(\n",
    "marlowe-cli run auto-execute \\\n",
    "  --tx-in-marlowe \"$TXX_2#1\" \\\n",
    "  --marlowe-in-file ./chain/simple/eurocall-2.json \\\n",
    "  --marlowe-out-file ./chain/simple/eurocall-3.json \\\n",
    "  --change-address \"$ALICE_ADDR\" \\\n",
    "  --required-signer \"$BOB_SKEY\" \\\n",
    "  --out-file ./chain/simple/eurocall-tx-3.signed \\\n",
    "  --submit 600 \\\n",
    "  --print-stats \\\n",
    "| sed -e 's/^TxId \"\\(.*\\)\"$/\\1/' \\\n",
    ")\n",
    "echo \"TXX_3 = $TXX_3\"\n"
   ]
  },
  {
   "cell_type": "code",
   "execution_count": null,
   "id": "317d464d",
   "metadata": {
    "vscode": {
     "languageId": "shellscript"
    }
   },
   "outputs": [],
   "source": [
    "\n",
    "TXX_4=$(\n",
    "marlowe-cli run auto-execute \\\n",
    "  --tx-in-marlowe \"$TXX_3#1\" \\\n",
    "  --marlowe-in-file ./chain/simple/eurocall-3.json \\\n",
    "  --marlowe-out-file ./chain/simple/eurocall-4.json \\\n",
    "  --change-address \"$ALICE_ADDR\" \\\n",
    "  --required-signer \"keys/oracle.skey\" \\\n",
    "  --out-file ./chain/simple/eurocall-tx-4.signed \\\n",
    "  --submit 600 \\\n",
    "  --print-stats \\\n",
    "| sed -e 's/^TxId \"\\(.*\\)\"$/\\1/' \\\n",
    "| sed -e 's/^TxId \"\\(.*\\)\"$/\\1/' \\\n",
    ")\n",
    "echo \"TXX_4 = $TXX_4\""
   ]
  },
  {
   "cell_type": "code",
   "execution_count": 1,
   "id": "b865b81d",
   "metadata": {
    "vscode": {
     "languageId": "shellscript"
    }
   },
   "outputs": [
    {
     "name": "stdout",
     "output_type": "stream",
     "text": [
      "/transaction/?tab=utxo\n",
      "/transaction/?tab=utxo\n",
      "/transaction/?tab=utxo\n",
      "/transaction/?tab=utxo\n"
     ]
    }
   ],
   "source": [
    "echo \"$EXPLORER_URL\"/transaction/\"$TXX_1?tab=utxo\"\n",
    "echo \"$EXPLORER_URL\"/transaction/\"$TXX_2?tab=utxo\"\n",
    "echo \"$EXPLORER_URL\"/transaction/\"$TXX_3?tab=utxo\"\n",
    "echo \"$EXPLORER_URL\"/transaction/\"$TXX_4?tab=utxo\""
   ]
  }
 ],
 "metadata": {
  "kernelspec": {
   "display_name": "Bash",
   "language": "bash",
   "name": "bash"
  },
  "language_info": {
   "codemirror_mode": "shell",
   "file_extension": ".sh",
   "mimetype": "text/x-sh",
   "name": "bash"
  }
 },
 "nbformat": 4,
 "nbformat_minor": 5
}
